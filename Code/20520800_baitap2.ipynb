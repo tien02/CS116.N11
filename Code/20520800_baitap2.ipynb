{
 "cells": [
  {
   "cell_type": "markdown",
   "metadata": {},
   "source": [
    "* **Họ và Tên: Đặng Anh Tiến**\n",
    "\n",
    "* **Mã số sinh viên: 20520800**"
   ]
  },
  {
   "cell_type": "code",
   "execution_count": 59,
   "metadata": {},
   "outputs": [],
   "source": [
    "import geopandas as gpd\n",
    "df = gpd.read_file(\"./CSL_HCMC-main/Data/GIS/Population/population_HCMC/population_shapefile/Population_Ward_Level.shp\")"
   ]
  },
  {
   "cell_type": "code",
   "execution_count": 73,
   "metadata": {},
   "outputs": [
    {
     "name": "stdout",
     "output_type": "stream",
     "text": [
      "Phường có diện tích lớn nhất là phường Ly Nhon, Can Gio\n",
      "Phường có dân số 2019 cao nhất là phường Vinh Loc A, Binh Chanh\n",
      "Phường có diện tích nhỏ nhất là phường Ward 3, District 10\n",
      "Phường có dân số thấp nhất là phường An Khanh, District 2\n",
      "Phường có tốc độ tăng trưởng dân số nhanh nhất là phường Phu Huu, District 9\n",
      "Phường có tốc độ tăng trưởng dân số thấp nhất là phường An Khanh, District 2\n",
      "Phường có biến động dân số nhanh nhất là phường Vinh Loc A, Binh Chanh\n",
      "Phường có biến động dân số chậm nhất là phường An Khanh, District 2\n",
      "Phường có mật độ dân số cao nhất là phường Ward 8, District 4\n",
      "Phường có mật độ dân số thấp nhất là phường Ly Nhon, Can Gio\n"
     ]
    }
   ],
   "source": [
    "# Cau 1: Phường nào có diện tích lớn nhất\n",
    "result = df.iloc[[df['Shape_Area'].idxmax()]]\n",
    "print(\"Phường có diện tích lớn nhất là phường \" + result['Com_Name'].values[0] + \", \" + result['Dist_Name'].values[0])\n",
    "\n",
    "# Cau 2: Phường nào có dân số 2019 (Pop_2019) cao nhất\n",
    "result = df.iloc[[df['Pop_2019'].idxmax()]]\n",
    "print(\"Phường có dân số 2019 cao nhất là phường \" + result['Com_Name'].values[0] + \", \" + result['Dist_Name'].values[0])\n",
    "\n",
    "# Cau 3: Phường nào có diện tích nhỏ nhất\n",
    "result = df.iloc[[df['Shape_Area'].idxmin()]]\n",
    "print(\"Phường có diện tích nhỏ nhất là phường \" + result['Com_Name'].values[0] + \", \" + result['Dist_Name'].values[0])\n",
    "\n",
    "# Cau 4: Phường nào có dân số thấp nhất (2019)\n",
    "result = df.iloc[[df['Pop_2019'].idxmin()]]\n",
    "print(\"Phường có dân số thấp nhất là phường \" + result['Com_Name'].values[0] + \", \" + result['Dist_Name'].values[0])\n",
    "\n",
    "df['population growth rate'] = round(100 * (df[\"Pop_2019\"] / df[\"Pop_2009\"]), 3)\n",
    "# Cau 5: Phường nào có tốc độ tăng trưởng dân số nhanh nhất (dựa trên Pop_2009 và Pop_2019)\n",
    "result = df.iloc[[df['population growth rate'].idxmax()]]\n",
    "print(\"Phường có tốc độ tăng trưởng dân số nhanh nhất là phường \" + result['Com_Name'].values[0] + \", \" + result['Dist_Name'].values[0])\n",
    "\n",
    "# Cau 6: Phường nào có tốc độ tăng trưởng dân số thấp nhất\n",
    "result = df.iloc[[df['population growth rate'].idxmin()]]\n",
    "print(\"Phường có tốc độ tăng trưởng dân số thấp nhất là phường \" + result['Com_Name'].values[0] + \", \" + result['Dist_Name'].values[0])\n",
    "\n",
    "df[\"population change\"] = df[\"Pop_2019\"] - df[\"Pop_2009\"]\n",
    "# Cau 7: Phường nào có biến động dân số nhanh nhất\n",
    "result = df.iloc[[df['population change'].idxmax()]]\n",
    "print(\"Phường có biến động dân số nhanh nhất là phường \" + result['Com_Name'].values[0] + \", \" + result['Dist_Name'].values[0])\n",
    "\n",
    "# Cau 8: Phường nào có biến động dân số chậm nhất\n",
    "result = df.iloc[[df['population change'].idxmin()]]\n",
    "print(\"Phường có biến động dân số chậm nhất là phường \" + result['Com_Name'].values[0] + \", \" + result['Dist_Name'].values[0])\n",
    "\n",
    "# Cau 9: Phường nào có mật độ dân số cao nhất (2019)\n",
    "result = df.iloc[[df['Den_2019'].idxmax()]]\n",
    "print(\"Phường có mật độ dân số cao nhất là phường \" + result['Com_Name'].values[0] + \", \" + result['Dist_Name'].values[0])\n",
    "\n",
    "# Cau 10: Phường nào có mật độ dân số thấp nhất (2019)\n",
    "result = df.iloc[[df['Den_2019'].idxmin()]]\n",
    "print(\"Phường có mật độ dân số thấp nhất là phường \" + result['Com_Name'].values[0] + \", \" + result['Dist_Name'].values[0])"
   ]
  }
 ],
 "metadata": {
  "kernelspec": {
   "display_name": "Python 3 (ipykernel)",
   "language": "python",
   "name": "python3"
  },
  "language_info": {
   "codemirror_mode": {
    "name": "ipython",
    "version": 3
   },
   "file_extension": ".py",
   "mimetype": "text/x-python",
   "name": "python",
   "nbconvert_exporter": "python",
   "pygments_lexer": "ipython3",
   "version": "3.9.12"
  },
  "vscode": {
   "interpreter": {
    "hash": "aec3fc80f2e056856a275444272572a66dc0bf6a7990d6eb1eacd066d254e819"
   }
  }
 },
 "nbformat": 4,
 "nbformat_minor": 4
}
